{
  "nbformat": 4,
  "nbformat_minor": 0,
  "metadata": {
    "colab": {
      "provenance": [],
      "include_colab_link": true
    },
    "kernelspec": {
      "name": "python3",
      "display_name": "Python 3"
    },
    "language_info": {
      "name": "python"
    }
  },
  "cells": [
    {
      "cell_type": "markdown",
      "metadata": {
        "id": "view-in-github",
        "colab_type": "text"
      },
      "source": [
        "<a href=\"https://colab.research.google.com/github/opethaiwoh/MovieReview/blob/main/PM_ML_.ipynb\" target=\"_parent\"><img src=\"https://colab.research.google.com/assets/colab-badge.svg\" alt=\"Open In Colab\"/></a>"
      ]
    },
    {
      "cell_type": "code",
      "source": [
        "from google.colab import drive\n",
        "drive.mount('/content/drive')"
      ],
      "metadata": {
        "colab": {
          "base_uri": "https://localhost:8080/"
        },
        "id": "UBQSTQNMmoUy",
        "outputId": "27498711-29ca-47fc-9459-014c6b193dfc"
      },
      "execution_count": 1,
      "outputs": [
        {
          "output_type": "stream",
          "name": "stdout",
          "text": [
            "Drive already mounted at /content/drive; to attempt to forcibly remount, call drive.mount(\"/content/drive\", force_remount=True).\n"
          ]
        }
      ]
    },
    {
      "cell_type": "code",
      "source": [
        "import pandas as pd\n",
        "from sklearn.feature_extraction.text import TfidfVectorizer\n",
        "from sklearn.model_selection import train_test_split\n",
        "from sklearn.tree import DecisionTreeClassifier\n",
        "from sklearn.svm import LinearSVC\n",
        "from sklearn.ensemble import RandomForestClassifier\n",
        "from sklearn.naive_bayes import GaussianNB\n",
        "from sklearn.naive_bayes import MultinomialNB\n",
        "from sklearn.metrics import f1_score, accuracy_score, precision_score, recall_score, roc_curve, auc\n",
        "# Import the CSV file\n",
        "\n",
        "df = pd.read_csv('/content/drive/Shareddrives/Black in AI/Dataset/IMDB Dataset.csv')\n",
        "print(df)\n",
        "\n",
        "\n"
      ],
      "metadata": {
        "colab": {
          "base_uri": "https://localhost:8080/"
        },
        "id": "kr7JFp5BsmTc",
        "outputId": "ff112ff3-59fe-4b7e-cb5a-f10cbe5a37cf"
      },
      "execution_count": 2,
      "outputs": [
        {
          "output_type": "stream",
          "name": "stdout",
          "text": [
            "                                                  review sentiment\n",
            "0      One of the other reviewers has mentioned that ...  positive\n",
            "1      A wonderful little production. <br /><br />The...  positive\n",
            "2      I thought this was a wonderful way to spend ti...  positive\n",
            "3      Basically there's a family where a little boy ...  negative\n",
            "4      Petter Mattei's \"Love in the Time of Money\" is...  positive\n",
            "...                                                  ...       ...\n",
            "49995  I thought this movie did a down right good job...  positive\n",
            "49996  Bad plot, bad dialogue, bad acting, idiotic di...  negative\n",
            "49997  I am a Catholic taught in parochial elementary...  negative\n",
            "49998  I'm going to have to disagree with the previou...  negative\n",
            "49999  No one expects the Star Trek movies to be high...  negative\n",
            "\n",
            "[50000 rows x 2 columns]\n"
          ]
        }
      ]
    },
    {
      "cell_type": "code",
      "source": [
        "# Convert the values in the `column_1` column to positive and negative of 1 and 0s\n",
        "df['sentiment'] = df['sentiment'].replace({'positive': 1, 'negative': 0})\n",
        "\n",
        "# Print the DataFrame\n",
        "print(df)\n"
      ],
      "metadata": {
        "colab": {
          "base_uri": "https://localhost:8080/"
        },
        "id": "HlFM5RthvVRm",
        "outputId": "d774c8e7-f5a2-40e8-fea2-e9fa255659ae"
      },
      "execution_count": 3,
      "outputs": [
        {
          "output_type": "stream",
          "name": "stdout",
          "text": [
            "                                                  review  sentiment\n",
            "0      One of the other reviewers has mentioned that ...          1\n",
            "1      A wonderful little production. <br /><br />The...          1\n",
            "2      I thought this was a wonderful way to spend ti...          1\n",
            "3      Basically there's a family where a little boy ...          0\n",
            "4      Petter Mattei's \"Love in the Time of Money\" is...          1\n",
            "...                                                  ...        ...\n",
            "49995  I thought this movie did a down right good job...          1\n",
            "49996  Bad plot, bad dialogue, bad acting, idiotic di...          0\n",
            "49997  I am a Catholic taught in parochial elementary...          0\n",
            "49998  I'm going to have to disagree with the previou...          0\n",
            "49999  No one expects the Star Trek movies to be high...          0\n",
            "\n",
            "[50000 rows x 2 columns]\n"
          ]
        }
      ]
    },
    {
      "cell_type": "code",
      "source": [
        "# Split the data into training and test sets\n",
        "X_train, X_test, y_train, y_test = train_test_split(df['review'], df['sentiment'], test_size=0.2, random_state=42)"
      ],
      "metadata": {
        "id": "uropgk8h5_mt"
      },
      "execution_count": 4,
      "outputs": []
    },
    {
      "cell_type": "markdown",
      "source": [
        "**#Using Tfid Vectorizer**"
      ],
      "metadata": {
        "id": "UcwzX1Pj6HO5"
      }
    },
    {
      "cell_type": "code",
      "source": [
        "# Create a TfidfVectorizer\n",
        "vectorizer = TfidfVectorizer(stop_words='english')\n",
        "\n",
        "# Fit the vectorizer to the training data\n",
        "vectorizer.fit(X_train)\n",
        "\n",
        "# Transform the training and test data\n",
        "X_train_vectorized = vectorizer.transform(X_train)\n",
        "X_test_vectorized = vectorizer.transform(X_test)\n"
      ],
      "metadata": {
        "id": "XkJBFaPrxRR7"
      },
      "execution_count": null,
      "outputs": []
    },
    {
      "cell_type": "markdown",
      "source": [
        "**#Using Tfid on different Machine Learning Classifiers**"
      ],
      "metadata": {
        "id": "jd85X0JS6mB2"
      }
    },
    {
      "cell_type": "code",
      "source": [
        "# Create the DecisionTreeClassifier classifier\n",
        "clf_decision_tree = DecisionTreeClassifier()\n",
        "\n",
        "# Train the classifier\n",
        "clf_decision_tree.fit(X_train_vectorized, y_train)\n",
        "\n",
        "# Make predictions on the test data\n",
        "predictions_decision_tree = clf_decision_tree.predict(X_test_vectorized)\n",
        "\n",
        "# Calculate the f1 score, accuracy, precision, and recall for the DecisionTreeClassifier classifier\n",
        "f1_decision_tree = f1_score(y_test, predictions_decision_tree)\n",
        "accuracy_decision_tree = accuracy_score(y_test, predictions_decision_tree)\n",
        "precision_decision_tree = precision_score(y_test, predictions_decision_tree)\n",
        "recall_decision_tree = recall_score(y_test, predictions_decision_tree)\n",
        "\n",
        "# Calculate the ROC curve and AUC for the DecisionTreeClassifier classifier\n",
        "fpr_decision_tree, tpr_decision_tree, _ = roc_curve(y_test, predictions_decision_tree)\n",
        "auc_decision_tree = auc(fpr_decision_tree, tpr_decision_tree)\n",
        "\n",
        "# Print the f1 score, accuracy, precision, recall, ROC curve, and AUC for the DecisionTreeClassifier classifier\n",
        "print('F1 score for DecisionTreeClassifier:', f1_decision_tree)\n",
        "print('Accuracy for DecisionTreeClassifier:', accuracy_decision_tree)\n",
        "print('Precision for DecisionTreeClassifier:', precision_decision_tree)\n",
        "print('Recall for DecisionTreeClassifier:', recall_decision_tree)\n",
        "print('ROC curve for DecisionTreeClassifier:', fpr_decision_tree, tpr_decision_tree)\n",
        "print('AUC for DecisionTreeClassifier:', auc_decision_tree)"
      ],
      "metadata": {
        "colab": {
          "base_uri": "https://localhost:8080/"
        },
        "id": "QKIjKC6SwinY",
        "outputId": "5b795787-f0e3-4ed8-ed24-78403ee43ea8"
      },
      "execution_count": null,
      "outputs": [
        {
          "output_type": "stream",
          "name": "stdout",
          "text": [
            "F1 score for DecisionTreeClassifier: 0.7165947194056821\n",
            "Accuracy for DecisionTreeClassifier: 0.7177\n",
            "Precision for DecisionTreeClassifier: 0.7251117431938237\n",
            "Recall for DecisionTreeClassifier: 0.7082754514784679\n",
            "ROC curve for DecisionTreeClassifier: [0.         0.27272727 1.        ] [0.         0.70827545 1.        ]\n",
            "AUC for DecisionTreeClassifier: 0.7177740893755976\n"
          ]
        }
      ]
    },
    {
      "cell_type": "code",
      "source": [
        "# Create the RandomForestClassifier classifier\n",
        "clf_random_forest = RandomForestClassifier()\n",
        "\n",
        "# Train the classifier\n",
        "clf_random_forest.fit(X_train_vectorized, y_train)\n",
        "\n",
        "# Make predictions on the test data\n",
        "predictions_random_forest = clf_random_forest.predict(X_test_vectorized)\n",
        "\n",
        "# Calculate the f1 score, accuracy, precision, and recall for the RandomForestClassifier classifier\n",
        "f1_random_forest = f1_score(y_test, predictions_random_forest)\n",
        "accuracy_random_forest = accuracy_score(y_test, predictions_random_forest)\n",
        "precision_random_forest = precision_score(y_test, predictions_random_forest)\n",
        "recall_random_forest = recall_score(y_test, predictions_random_forest)\n",
        "\n",
        "# Calculate the ROC curve and AUC for the RandomForestClassifier classifier\n",
        "fpr_random_forest, tpr_random_forest, _ = roc_curve(y_test, predictions_random_forest)\n",
        "auc_random_forest = auc(fpr_random_forest, tpr_random_forest)\n",
        "\n",
        "# Print the f1 score, accuracy, precision, recall, ROC curve, and AUC for the RandomForestClassifier classifier\n",
        "print('F1 score for RandomForestClassifier:', f1_random_forest)\n",
        "print('Accuracy for RandomForestClassifier:', accuracy_random_forest)\n",
        "print('Precision for RandomForestClassifier:', precision_random_forest)\n",
        "print('Recall for RandomForestClassifier:', recall_random_forest)\n",
        "print('ROC curve for RandomForestClassifier:', fpr_random_forest, tpr_random_forest)\n",
        "print('AUC for RandomForestClassifier:', auc_random_forest)"
      ],
      "metadata": {
        "colab": {
          "base_uri": "https://localhost:8080/"
        },
        "id": "dIjbGBFYxGxS",
        "outputId": "351c9de1-be68-408b-e4ab-0c62d6c93d8c"
      },
      "execution_count": null,
      "outputs": [
        {
          "output_type": "stream",
          "name": "stdout",
          "text": [
            "F1 score for RandomForestClassifier: 0.8600839496302219\n",
            "Accuracy for RandomForestClassifier: 0.86\n",
            "Precision for RandomForestClassifier: 0.8663176967988726\n",
            "Recall for RandomForestClassifier: 0.8539392736654098\n",
            "ROC curve for RandomForestClassifier: [0.         0.13384398 1.        ] [0.         0.85393927 1.        ]\n",
            "AUC for RandomForestClassifier: 0.86004764529874\n"
          ]
        }
      ]
    },
    {
      "cell_type": "code",
      "source": [
        "# Create the LinearSVC classifier\n",
        "clf_linear_svc = LinearSVC()\n",
        "\n",
        "# Train the classifier\n",
        "clf_linear_svc.fit(X_train_vectorized, y_train)\n",
        "\n",
        "# Make predictions on the test data\n",
        "predictions_linear_svc = clf_linear_svc.predict(X_test_vectorized)\n",
        "\n",
        "# Calculate the f1 score, accuracy, precision, and recall for the LinearSVC classifier\n",
        "f1_linear_svc = f1_score(y_test, predictions_linear_svc)\n",
        "accuracy_linear_svc = accuracy_score(y_test, predictions_linear_svc)\n",
        "precision_linear_svc = precision_score(y_test, predictions_linear_svc)\n",
        "recall_linear_svc = recall_score(y_test, predictions_linear_svc)\n",
        "\n",
        "# Calculate the ROC curve and AUC for the LinearSVC classifier\n",
        "fpr_linear_svc, tpr_linear_svc, _ = roc_curve(y_test, predictions_linear_svc)\n",
        "auc_linear_svc = auc(fpr_linear_svc, tpr_linear_svc)\n",
        "\n",
        "# Print the f1 score, accuracy, precision, recall, ROC curve, and AUC for the LinearSVC classifier\n",
        "print('F1 score for LinearSVC:', f1_linear_svc)\n",
        "print('Accuracy for LinearSVC:', accuracy_linear_svc)\n",
        "print('Precision for LinearSVC:', precision_linear_svc)\n",
        "print('Recall for LinearSVC:', recall_linear_svc)\n",
        "print('ROC curve for LinearSVC:', fpr_linear_svc, tpr_linear_svc)\n",
        "print('AUC for LinearSVC:', auc_linear_svc)"
      ],
      "metadata": {
        "colab": {
          "base_uri": "https://localhost:8080/"
        },
        "id": "vvAUlhJ1zkAg",
        "outputId": "6a4a6054-86a1-4eb2-ab77-e607512d9c86"
      },
      "execution_count": null,
      "outputs": [
        {
          "output_type": "stream",
          "name": "stdout",
          "text": [
            "F1 score for LinearSVC: 0.8961716366499362\n",
            "Accuracy for LinearSVC: 0.8945\n",
            "Precision for LinearSVC: 0.8889105818039829\n",
            "Recall for LinearSVC: 0.9035522921214527\n",
            "ROC curve for LinearSVC: [0.         0.11469462 1.        ] [0.         0.90355229 1.        ]\n",
            "AUC for LinearSVC: 0.8944288370504462\n"
          ]
        }
      ]
    },
    {
      "cell_type": "code",
      "source": [
        "# Create the MultinomialNB classifier\n",
        "clf_multinomial_nb = MultinomialNB()\n",
        "\n",
        "# Train the classifier\n",
        "clf_multinomial_nb.fit(X_train_vectorized, y_train)\n",
        "\n",
        "# Make predictions on the test data\n",
        "predictions_multinomial_nb = clf_multinomial_nb.predict(X_test_vectorized)\n",
        "\n",
        "# Calculate the f1 score, accuracy, precision, and recall for the MultinomialNB classifier\n",
        "f1_multinomial_nb = f1_score(y_test, predictions_multinomial_nb)\n",
        "accuracy_multinomial_nb = accuracy_score(y_test, predictions_multinomial_nb)\n",
        "precision_multinomial_nb = precision_score(y_test, predictions_multinomial_nb)\n",
        "recall_multinomial_nb = recall_score(y_test, predictions_multinomial_nb)\n",
        "\n",
        "# Calculate the ROC curve and AUC for the MultinomialNB classifier\n",
        "fpr_multinomial_nb, tpr_multinomial_nb, _ = roc_curve(y_test, predictions_multinomial_nb)\n",
        "auc_multinomial_nb = auc(fpr_multinomial_nb, tpr_multinomial_nb)\n",
        "\n",
        "# Print the f1 score, accuracy, precision, recall, ROC curve, and AUC for the MultinomialNB classifier\n",
        "print('F1 score for MultinomialNB:', f1_multinomial_nb)\n",
        "print('Accuracy for MultinomialNB:', accuracy_multinomial_nb)\n",
        "print('Precision for MultinomialNB:', precision_multinomial_nb)\n",
        "print('Recall for MultinomialNB:', recall_multinomial_nb)\n",
        "print('ROC curve for MultinomialNB:', fpr_multinomial_nb, tpr_multinomial_nb)\n",
        "print('AUC for MultinomialNB:', auc_multinomial_nb)"
      ],
      "metadata": {
        "colab": {
          "base_uri": "https://localhost:8080/"
        },
        "id": "j3beaoWI1llP",
        "outputId": "c79daa01-ddc4-4fae-faee-11b1de8153be"
      },
      "execution_count": null,
      "outputs": [
        {
          "output_type": "stream",
          "name": "stdout",
          "text": [
            "F1 score for MultinomialNB: 0.8646042587384493\n",
            "Accuracy for MultinomialNB: 0.8652\n",
            "Precision for MultinomialNB: 0.8753304860687411\n",
            "Recall for MultinomialNB: 0.854137725739234\n",
            "ROC curve for MultinomialNB: [0.        0.1235638 1.       ] [0.         0.85413773 1.        ]\n",
            "AUC for MultinomialNB: 0.8652869640588933\n"
          ]
        }
      ]
    },
    {
      "cell_type": "markdown",
      "source": [
        "**#Using Bag of Words Vectorizer**"
      ],
      "metadata": {
        "id": "efrWRQtB5cjt"
      }
    },
    {
      "cell_type": "code",
      "source": [
        "from sklearn.feature_extraction.text import CountVectorizer\n",
        "\n",
        "# Create a CountVectorizer\n",
        "Bvectorizer = CountVectorizer(stop_words='english')\n",
        "\n",
        "# Fit the vectorizer to the training data\n",
        "Bvectorizer.fit(X_train)\n",
        "\n",
        "# Transform the training and test data\n",
        "X_train_Bvectorized = Bvectorizer.transform(X_train)\n",
        "X_test_Bvectorized = Bvectorizer.transform(X_test)"
      ],
      "metadata": {
        "id": "zsYqu4Bj5DRZ"
      },
      "execution_count": 6,
      "outputs": []
    },
    {
      "cell_type": "markdown",
      "source": [
        "**#Using Bag of Words vectorizer on different Machine Learning Classifiers**"
      ],
      "metadata": {
        "id": "fP51mJGk6rzE"
      }
    },
    {
      "cell_type": "code",
      "source": [
        "# Create the DecisionTreeClassifier classifier\n",
        "clf_decision_tree = DecisionTreeClassifier()\n",
        "\n",
        "# Train the classifier\n",
        "clf_decision_tree.fit(X_train_Bvectorized, y_train)\n",
        "\n",
        "# Make predictions on the test data\n",
        "predictions_decision_tree = clf_decision_tree.predict(X_test_Bvectorized)\n",
        "\n",
        "# Calculate the f1 score, accuracy, precision, and recall for the DecisionTreeClassifier classifier\n",
        "f1_decision_tree = f1_score(y_test, predictions_decision_tree)\n",
        "accuracy_decision_tree = accuracy_score(y_test, predictions_decision_tree)\n",
        "precision_decision_tree = precision_score(y_test, predictions_decision_tree)\n",
        "recall_decision_tree = recall_score(y_test, predictions_decision_tree)\n",
        "\n",
        "# Calculate the ROC curve and AUC for the DecisionTreeClassifier classifier\n",
        "fpr_decision_tree, tpr_decision_tree, _ = roc_curve(y_test, predictions_decision_tree)\n",
        "auc_decision_tree = auc(fpr_decision_tree, tpr_decision_tree)\n",
        "\n",
        "# Print the f1 score, accuracy, precision, recall, ROC curve, and AUC for the DecisionTreeClassifier classifier\n",
        "print('F1 score for DecisionTreeClassifier:', f1_decision_tree)\n",
        "print('Accuracy for DecisionTreeClassifier:', accuracy_decision_tree)\n",
        "print('Precision for DecisionTreeClassifier:', precision_decision_tree)\n",
        "print('Recall for DecisionTreeClassifier:', recall_decision_tree)\n",
        "print('ROC curve for DecisionTreeClassifier:', fpr_decision_tree, tpr_decision_tree)\n",
        "print('AUC for DecisionTreeClassifier:', auc_decision_tree)"
      ],
      "metadata": {
        "colab": {
          "base_uri": "https://localhost:8080/"
        },
        "id": "6k8GY7yb6y7i",
        "outputId": "b417b0e7-abe8-45e5-b83a-b099de284dff"
      },
      "execution_count": 7,
      "outputs": [
        {
          "output_type": "stream",
          "name": "stdout",
          "text": [
            "F1 score for DecisionTreeClassifier: 0.7338862796042769\n",
            "Accuracy for DecisionTreeClassifier: 0.7337\n",
            "Precision for DecisionTreeClassifier: 0.7391304347826086\n",
            "Recall for DecisionTreeClassifier: 0.7287160150823576\n",
            "ROC curve for DecisionTreeClassifier: [0.         0.26123765 1.        ] [0.         0.72871602 1.        ]\n",
            "AUC for DecisionTreeClassifier: 0.7337391806917533\n"
          ]
        }
      ]
    },
    {
      "cell_type": "code",
      "source": [
        "# Create the RandomForestClassifier classifier\n",
        "clf_random_forest = RandomForestClassifier()\n",
        "\n",
        "# Train the classifier\n",
        "clf_random_forest.fit(X_train_Bvectorized, y_train)\n",
        "\n",
        "# Make predictions on the test data\n",
        "predictions_random_forest = clf_random_forest.predict(X_test_Bvectorized)\n",
        "\n",
        "# Calculate the f1 score, accuracy, precision, and recall for the RandomForestClassifier classifier\n",
        "f1_random_forest = f1_score(y_test, predictions_random_forest)\n",
        "accuracy_random_forest = accuracy_score(y_test, predictions_random_forest)\n",
        "precision_random_forest = precision_score(y_test, predictions_random_forest)\n",
        "recall_random_forest = recall_score(y_test, predictions_random_forest)\n",
        "\n",
        "# Calculate the ROC curve and AUC for the RandomForestClassifier classifier\n",
        "fpr_random_forest, tpr_random_forest, _ = roc_curve(y_test, predictions_random_forest)\n",
        "auc_random_forest = auc(fpr_random_forest, tpr_random_forest)\n",
        "\n",
        "# Print the f1 score, accuracy, precision, recall, ROC curve, and AUC for the RandomForestClassifier classifier\n",
        "print('F1 score for RandomForestClassifier:', f1_random_forest)\n",
        "print('Accuracy for RandomForestClassifier:', accuracy_random_forest)\n",
        "print('Precision for RandomForestClassifier:', precision_random_forest)\n",
        "print('Recall for RandomForestClassifier:', recall_random_forest)\n",
        "print('ROC curve for RandomForestClassifier:', fpr_random_forest, tpr_random_forest)\n",
        "print('AUC for RandomForestClassifier:', auc_random_forest)"
      ],
      "metadata": {
        "colab": {
          "base_uri": "https://localhost:8080/"
        },
        "id": "dTLPADyN85Xp",
        "outputId": "d230a6d6-1e6e-4c2e-cb95-94addf980663"
      },
      "execution_count": 9,
      "outputs": [
        {
          "output_type": "stream",
          "name": "stdout",
          "text": [
            "F1 score for RandomForestClassifier: 0.8647352647352647\n",
            "Accuracy for RandomForestClassifier: 0.8646\n",
            "Precision for RandomForestClassifier: 0.8706497686582176\n",
            "Recall for RandomForestClassifier: 0.8589005755110141\n",
            "ROC curve for RandomForestClassifier: [0.         0.12961097 1.        ] [0.         0.85890058 1.        ]\n",
            "AUC for RandomForestClassifier: 0.8646448049899357\n"
          ]
        }
      ]
    },
    {
      "cell_type": "code",
      "source": [
        "# Create the LinearSVC classifier\n",
        "clf_linear_svc = LinearSVC()\n",
        "\n",
        "# Train the classifier\n",
        "clf_linear_svc.fit(X_train_Bvectorized, y_train)\n",
        "\n",
        "# Make predictions on the test data\n",
        "predictions_linear_svc = clf_linear_svc.predict(X_test_Bvectorized)\n",
        "\n",
        "# Calculate the f1 score, accuracy, precision, and recall for the LinearSVC classifier\n",
        "f1_linear_svc = f1_score(y_test, predictions_linear_svc)\n",
        "accuracy_linear_svc = accuracy_score(y_test, predictions_linear_svc)\n",
        "precision_linear_svc = precision_score(y_test, predictions_linear_svc)\n",
        "recall_linear_svc = recall_score(y_test, predictions_linear_svc)\n",
        "\n",
        "# Calculate the ROC curve and AUC for the LinearSVC classifier\n",
        "fpr_linear_svc, tpr_linear_svc, _ = roc_curve(y_test, predictions_linear_svc)\n",
        "auc_linear_svc = auc(fpr_linear_svc, tpr_linear_svc)\n",
        "\n",
        "# Print the f1 score, accuracy, precision, recall, ROC curve, and AUC for the LinearSVC classifier\n",
        "print('F1 score for LinearSVC:', f1_linear_svc)\n",
        "print('Accuracy for LinearSVC:', accuracy_linear_svc)\n",
        "print('Precision for LinearSVC:', precision_linear_svc)\n",
        "print('Recall for LinearSVC:', recall_linear_svc)\n",
        "print('ROC curve for LinearSVC:', fpr_linear_svc, tpr_linear_svc)\n",
        "print('AUC for LinearSVC:', auc_linear_svc)"
      ],
      "metadata": {
        "colab": {
          "base_uri": "https://localhost:8080/"
        },
        "id": "P2XW8B8a9PDT",
        "outputId": "e38d03a6-bdf5-4cdc-ae39-3120305517f1"
      },
      "execution_count": 10,
      "outputs": [
        {
          "output_type": "stream",
          "name": "stdout",
          "text": [
            "F1 score for LinearSVC: 0.8634247796375161\n",
            "Accuracy for LinearSVC: 0.8621\n",
            "Precision for LinearSVC: 0.861803084223013\n",
            "Recall for LinearSVC: 0.8650525897995635\n",
            "ROC curve for LinearSVC: [0.         0.14089901 1.        ] [0.         0.86505259 1.        ]\n",
            "AUC for LinearSVC: 0.8620767887518277\n"
          ]
        },
        {
          "output_type": "stream",
          "name": "stderr",
          "text": [
            "/usr/local/lib/python3.10/dist-packages/sklearn/svm/_base.py:1244: ConvergenceWarning: Liblinear failed to converge, increase the number of iterations.\n",
            "  warnings.warn(\n"
          ]
        }
      ]
    },
    {
      "cell_type": "code",
      "source": [
        "# Create the MultinomialNB classifier\n",
        "clf_multinomial_nb = MultinomialNB()\n",
        "\n",
        "# Train the classifier\n",
        "clf_multinomial_nb.fit(X_train_Bvectorized, y_train)\n",
        "\n",
        "# Make predictions on the test data\n",
        "predictions_multinomial_nb = clf_multinomial_nb.predict(X_test_Bvectorized)\n",
        "\n",
        "# Calculate the f1 score, accuracy, precision, and recall for the MultinomialNB classifier\n",
        "f1_multinomial_nb = f1_score(y_test, predictions_multinomial_nb)\n",
        "accuracy_multinomial_nb = accuracy_score(y_test, predictions_multinomial_nb)\n",
        "precision_multinomial_nb = precision_score(y_test, predictions_multinomial_nb)\n",
        "recall_multinomial_nb = recall_score(y_test, predictions_multinomial_nb)\n",
        "\n",
        "# Calculate the ROC curve and AUC for the MultinomialNB classifier\n",
        "fpr_multinomial_nb, tpr_multinomial_nb, _ = roc_curve(y_test, predictions_multinomial_nb)\n",
        "auc_multinomial_nb = auc(fpr_multinomial_nb, tpr_multinomial_nb)\n",
        "\n",
        "# Print the f1 score, accuracy, precision, recall, ROC curve, and AUC for the MultinomialNB classifier\n",
        "print('F1 score for MultinomialNB:', f1_multinomial_nb)\n",
        "print('Accuracy for MultinomialNB:', accuracy_multinomial_nb)\n",
        "print('Precision for MultinomialNB:', precision_multinomial_nb)\n",
        "print('Recall for MultinomialNB:', recall_multinomial_nb)\n",
        "print('ROC curve for MultinomialNB:', fpr_multinomial_nb, tpr_multinomial_nb)\n",
        "print('AUC for MultinomialNB:', auc_multinomial_nb)"
      ],
      "metadata": {
        "colab": {
          "base_uri": "https://localhost:8080/"
        },
        "id": "BrRtWSBE9YXF",
        "outputId": "6c5dbeb6-c2e0-4064-b5b9-94a72da7d751"
      },
      "execution_count": 11,
      "outputs": [
        {
          "output_type": "stream",
          "name": "stdout",
          "text": [
            "F1 score for MultinomialNB: 0.8547717842323652\n",
            "Accuracy for MultinomialNB: 0.8565\n",
            "Precision for MultinomialNB: 0.8721602643535729\n",
            "Recall for MultinomialNB: 0.8380631077594761\n",
            "ROC curve for MultinomialNB: [0.         0.12477323 1.        ] [0.         0.83806311 1.        ]\n",
            "AUC for MultinomialNB: 0.8566449382780447\n"
          ]
        }
      ]
    },
    {
      "cell_type": "markdown",
      "source": [
        "**#Using Doc2Vec Vectorizer**"
      ],
      "metadata": {
        "id": "rSyynOPT-v07"
      }
    },
    {
      "cell_type": "code",
      "source": [
        "from gensim.models.doc2vec import Doc2Vec, TaggedDocument\n",
        "from sklearn.model_selection import train_test_split\n",
        "\n",
        "# Assuming X_train and X_test are lists of strings representing documents\n",
        "\n",
        "# Combine the training and test data\n",
        "all_data = X_train + X_test\n",
        "\n",
        "# Clean the data and ensure all documents are strings\n",
        "all_data = [str(doc) for doc in all_data]\n",
        "\n",
        "# Create tagged documents for Doc2Vec\n",
        "tagged_data = [TaggedDocument(words=doc.split(), tags=[str(i)]) for i, doc in enumerate(all_data)]\n",
        "\n",
        "# Train a Doc2Vec model\n",
        "vector_size = 100  # You can adjust this parameter\n",
        "model = Doc2Vec(vector_size=vector_size, window=5, min_count=1, workers=4, epochs=20)  # Adjust parameters as needed\n",
        "model.build_vocab(tagged_data)\n",
        "model.train(tagged_data, total_examples=model.corpus_count, epochs=model.epochs)\n",
        "\n",
        "# Transform the training and test data\n",
        "X_train_Doc2Vec = [model.infer_vector(doc.split()) for doc in X_train]\n",
        "X_test_Doc2Vec = [model.infer_vector(doc.split()) for doc in X_test]\n"
      ],
      "metadata": {
        "id": "Dk04v7Ahza83"
      },
      "execution_count": 5,
      "outputs": []
    },
    {
      "cell_type": "markdown",
      "source": [
        "**#Doc2Vec Vectorizer on different Machine Learning Classifiers**"
      ],
      "metadata": {
        "id": "09HYTWpGI-eK"
      }
    },
    {
      "cell_type": "code",
      "source": [
        "from sklearn.svm import SVC\n",
        "from sklearn.metrics import f1_score, accuracy_score, precision_score, recall_score, roc_curve, auc\n",
        "from gensim.models.doc2vec import Doc2Vec\n",
        "\n",
        "# Assuming X_train_Doc2Vec and X_test_Doc2Vec are already defined\n",
        "\n",
        "# Create the SVC classifier\n",
        "clf_svc = SVC()\n",
        "\n",
        "# Train the classifier\n",
        "clf_svc.fit(X_train_Doc2Vec, y_train)\n",
        "\n",
        "# Make predictions on the test data\n",
        "predictions_svc = clf_svc.predict(X_test_Doc2Vec)\n",
        "\n",
        "# Calculate the f1 score, accuracy, precision, and recall for the SVC classifier\n",
        "f1_svc = f1_score(y_test, predictions_svc)\n",
        "accuracy_svc = accuracy_score(y_test, predictions_svc)\n",
        "precision_svc = precision_score(y_test, predictions_svc)\n",
        "recall_svc = recall_score(y_test, predictions_svc)\n",
        "\n",
        "# Calculate the ROC curve and AUC for the SVC classifier\n",
        "fpr_svc, tpr_svc, thresholds_svc = roc_curve(y_test, predictions_svc)\n",
        "auc_svc = auc(fpr_svc, tpr_svc)\n",
        "\n",
        "# Print the f1 score, accuracy, precision, recall, ROC curve, and AUC for the SVC classifier\n",
        "print('F1 score for SVC:', f1_svc)\n",
        "print('Accuracy for SVC:', accuracy_svc)\n",
        "print('Precision for SVC:', precision_svc)\n",
        "print('Recall for SVC:', recall_svc)\n",
        "print('ROC curve for SVC:', fpr_svc, tpr_svc)\n",
        "print('AUC for SVC:', auc_svc)"
      ],
      "metadata": {
        "colab": {
          "base_uri": "https://localhost:8080/"
        },
        "id": "qJ8cwDCVznPQ",
        "outputId": "a8782866-ef0c-404e-861f-d71f80523102"
      },
      "execution_count": 6,
      "outputs": [
        {
          "output_type": "stream",
          "name": "stdout",
          "text": [
            "F1 score for SVC: 0.4996988556514756\n",
            "Accuracy for SVC: 0.5016\n",
            "Precision for SVC: 0.5055860247816372\n",
            "Recall for SVC: 0.49394721174836276\n",
            "ROC curve for SVC: [0.         0.49062689 1.        ] [0.         0.49394721 1.        ]\n",
            "AUC for SVC: 0.5016601610041955\n"
          ]
        }
      ]
    },
    {
      "cell_type": "code",
      "source": [
        "from sklearn.naive_bayes import MultinomialNB\n",
        "from sklearn.metrics import f1_score, accuracy_score, precision_score, recall_score\n",
        "from gensim.models.doc2vec import Doc2Vec\n",
        "\n",
        "# Assuming X_train_Doc2Vec and X_test_Doc2Vec are already defined\n",
        "\n",
        "# Remove negative values from the vectors\n",
        "X_train_Doc2Vec_nonneg = np.clip(X_train_Doc2Vec, a_min=0, a_max=None)\n",
        "X_test_Doc2Vec_nonneg = np.clip(X_test_Doc2Vec, a_min=0, a_max=None)\n",
        "\n",
        "# Create the Naive Bayes classifier\n",
        "clf_nb = MultinomialNB()\n",
        "\n",
        "# Train the classifier\n",
        "clf_nb.fit(X_train_Doc2Vec_nonneg, y_train)\n",
        "\n",
        "# Make predictions on the test data\n",
        "predictions_nb = clf_nb.predict(X_test_Doc2Vec_nonneg)\n",
        "\n",
        "# Calculate the f1 score, accuracy, precision, and recall for the Naive Bayes classifier\n",
        "f1_nb = f1_score(y_test, predictions_nb)\n",
        "accuracy_nb = accuracy_score(y_test, predictions_nb)\n",
        "precision_nb = precision_score(y_test, predictions_nb)\n",
        "recall_nb = recall_score(y_test, predictions_nb)\n",
        "\n",
        "# Calculate the ROC curve and AUC for the MultinomialNB classifier\n",
        "fpr_nb, tpr_nb, thresholds_nb = roc_curve(y_test, predictions_nb)\n",
        "auc_nb = auc(fpr_nb, tpr_nb)\n",
        "\n",
        "# Print the f1 score, accuracy, precision, recall, ROC curve, and AUC for the MultinomialNB classifier\n",
        "print('F1 score for MultinomialNB:', f1_nb)\n",
        "print('Accuracy for MultinomialNB:', accuracy_nb)\n",
        "print('Precision for MultinomialNB:', precision_nb)\n",
        "print('Recall for MultinomialNB:', recall_nb)\n",
        "print('ROC curve for MultinomialNB:', fpr_nb, tpr_nb)\n",
        "print('AUC for MultinomialNB:', auc_nb)\n"
      ],
      "metadata": {
        "colab": {
          "base_uri": "https://localhost:8080/"
        },
        "id": "GSnN3sF9FT0J",
        "outputId": "11bf389e-8d99-4874-cf6c-0deb3d723f92"
      },
      "execution_count": 21,
      "outputs": [
        {
          "output_type": "stream",
          "name": "stdout",
          "text": [
            "F1 score for MultinomialNB: 0.0\n",
            "Accuracy for MultinomialNB: 0.4961\n",
            "Precision for MultinomialNB: 0.0\n",
            "Recall for MultinomialNB: 0.0\n",
            "ROC curve for MultinomialNB: [0. 1.] [0. 1.]\n",
            "AUC for MultinomialNB: 0.5\n"
          ]
        },
        {
          "output_type": "stream",
          "name": "stderr",
          "text": [
            "/usr/local/lib/python3.10/dist-packages/sklearn/metrics/_classification.py:1344: UndefinedMetricWarning: Precision is ill-defined and being set to 0.0 due to no predicted samples. Use `zero_division` parameter to control this behavior.\n",
            "  _warn_prf(average, modifier, msg_start, len(result))\n"
          ]
        }
      ]
    },
    {
      "cell_type": "code",
      "source": [
        "from sklearn.ensemble import RandomForestClassifier\n",
        "from sklearn.metrics import f1_score, accuracy_score, precision_score, recall_score\n",
        "from gensim.models.doc2vec import Doc2Vec\n",
        "\n",
        "# Assuming X_train_Doc2Vec and X_test_Doc2Vec are already defined\n",
        "\n",
        "# Create the Random Forest classifier\n",
        "clf_rf = RandomForestClassifier()\n",
        "\n",
        "# Train the classifier\n",
        "clf_rf.fit(X_train_Doc2Vec, y_train)\n",
        "\n",
        "# Make predictions on the test data\n",
        "predictions_rf = clf_rf.predict(X_test_Doc2Vec)\n",
        "\n",
        "# Calculate the f1 score, accuracy, precision, and recall for the Random Forest classifier\n",
        "f1_rf = f1_score(y_test, predictions_rf)\n",
        "accuracy_rf = accuracy_score(y_test, predictions_rf)\n",
        "precision_rf = precision_score(y_test, predictions_rf)\n",
        "recall_rf = recall_score(y_test, predictions_rf)\n",
        "\n",
        "# Calculate the ROC curve and AUC for the Random Forest classifier\n",
        "fpr_rf, tpr_rf, thresholds_rf = roc_curve(y_test, predictions_rf)\n",
        "auc_rf = auc(fpr_rf, tpr_rf)\n",
        "\n",
        "# Print the f1 score, accuracy, precision, recall, ROC curve, and AUC for the Random Forest classifier\n",
        "print('F1 score for Random Forest:', f1_rf)\n",
        "print('Accuracy for Random Forest:', accuracy_rf)\n",
        "print('Precision for Random Forest:', precision_rf)\n",
        "print('Recall for Random Forest:', recall_rf)\n",
        "print('ROC curve for Random Forest:', fpr_rf, tpr_rf)\n",
        "print('AUC for Random Forest:', auc_rf)"
      ],
      "metadata": {
        "colab": {
          "base_uri": "https://localhost:8080/"
        },
        "id": "WUgba4LaGLVi",
        "outputId": "06ece54c-713a-4963-854d-eb66e570d212"
      },
      "execution_count": 20,
      "outputs": [
        {
          "output_type": "stream",
          "name": "stdout",
          "text": [
            "F1 score for Random Forest: 0.47935087901799645\n",
            "Accuracy for Random Forest: 0.4995\n",
            "Precision for Random Forest: 0.5037166593790993\n",
            "Recall for Random Forest: 0.45723357809089105\n",
            "ROC curve for Random Forest: [0.         0.45756904 1.        ] [0.         0.45723358 1.        ]\n",
            "AUC for Random Forest: 0.4998322697952943\n"
          ]
        }
      ]
    },
    {
      "cell_type": "code",
      "source": [
        "from sklearn.tree import DecisionTreeClassifier\n",
        "from sklearn.metrics import f1_score, accuracy_score, precision_score, recall_score\n",
        "from gensim.models.doc2vec import Doc2Vec\n",
        "\n",
        "# Assuming X_train_Doc2Vec and X_test_Doc2Vec are already defined\n",
        "\n",
        "# Create the Decision Tree classifier\n",
        "clf_dt = DecisionTreeClassifier()\n",
        "\n",
        "# Train the classifier\n",
        "clf_dt.fit(X_train_Doc2Vec, y_train)\n",
        "\n",
        "# Make predictions on the test data\n",
        "predictions_dt = clf_dt.predict(X_test_Doc2Vec)\n",
        "\n",
        "# Calculate the f1 score, accuracy, precision, and recall for the Decision Tree classifier\n",
        "f1_dt = f1_score(y_test, predictions_dt)\n",
        "accuracy_dt = accuracy_score(y_test, predictions_dt)\n",
        "precision_dt = precision_score(y_test, predictions_dt)\n",
        "recall_dt = recall_score(y_test, predictions_dt)\n",
        "\n",
        "# Calculate the ROC curve and AUC for the Decision Tree classifier\n",
        "fpr_dt, tpr_dt, thresholds_dt = roc_curve(y_test, predictions_dt)\n",
        "auc_dt = auc(fpr_dt, tpr_dt)\n",
        "\n",
        "# Print the f1 score, accuracy, precision, recall, ROC curve, and AUC for the Decision Tree classifier\n",
        "print('F1 score for Decision Tree:', f1_dt)\n",
        "print('Accuracy for Decision Tree:', accuracy_dt)\n",
        "print('Precision for Decision Tree:', precision_dt)\n",
        "print('Recall for Decision Tree:', recall_dt)\n",
        "print('ROC curve for Decision Tree:', fpr_dt, tpr_dt)\n",
        "print('AUC for Decision Tree:', auc_dt)\n"
      ],
      "metadata": {
        "colab": {
          "base_uri": "https://localhost:8080/"
        },
        "id": "8KZL6C93Hos2",
        "outputId": "7e1c35ae-9f9f-49eb-969b-d2039f92038c"
      },
      "execution_count": 19,
      "outputs": [
        {
          "output_type": "stream",
          "name": "stdout",
          "text": [
            "F1 score for Decision Tree: 0.5031309015008449\n",
            "Accuracy for Decision Tree: 0.5001\n",
            "Precision for Decision Tree: 0.5039824771007567\n",
            "Recall for Decision Tree: 0.502282198848978\n",
            "ROC curve for Decision Tree: [0.         0.50211651 1.        ] [0.        0.5022822 1.       ]\n",
            "AUC for Decision Tree: 0.5000828450402922\n"
          ]
        }
      ]
    },
    {
      "cell_type": "code",
      "source": [],
      "metadata": {
        "id": "mOS5BiPnIwSJ"
      },
      "execution_count": null,
      "outputs": []
    }
  ]
}